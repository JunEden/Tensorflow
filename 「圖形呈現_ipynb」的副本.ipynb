{
  "nbformat": 4,
  "nbformat_minor": 0,
  "metadata": {
    "colab": {
      "name": "「圖形呈現.ipynb」的副本",
      "provenance": [],
      "collapsed_sections": [],
      "include_colab_link": true
    },
    "kernelspec": {
      "name": "python3",
      "display_name": "Python 3"
    },
    "language_info": {
      "name": "python"
    }
  },
  "cells": [
    {
      "cell_type": "markdown",
      "metadata": {
        "id": "view-in-github",
        "colab_type": "text"
      },
      "source": [
        "<a href=\"https://colab.research.google.com/github/JunEden/Tensorflow/blob/main/%E3%80%8C%E5%9C%96%E5%BD%A2%E5%91%88%E7%8F%BE_ipynb%E3%80%8D%E7%9A%84%E5%89%AF%E6%9C%AC.ipynb\" target=\"_parent\"><img src=\"https://colab.research.google.com/assets/colab-badge.svg\" alt=\"Open In Colab\"/></a>"
      ]
    },
    {
      "cell_type": "code",
      "metadata": {
        "id": "V4jnIescXj41"
      },
      "source": [
        "from sklearn.metrics import classification_report\n",
        "from sklearn.metrics import roc_curve, auc\n",
        "import glob\n",
        "import pandas as pd\n",
        "import matplotlib.pyplot as plt\n",
        "import numpy as np\n",
        "from PIL import Image"
      ],
      "execution_count": null,
      "outputs": []
    },
    {
      "cell_type": "code",
      "metadata": {
        "id": "NhdCKy7sYAmT"
      },
      "source": [
        "ori_imgs = []\n",
        "for p in x_test:\n",
        "    img = Image.open(p).resize((299, 299)).convert(\"RGB\") # resize大小依模型修改\n",
        "    ori_imgs.append(np.array(img))\n",
        "ori_imgs = np.array(ori_imgs)\n",
        "preprocess_imgs = preprocess_input(ori_imgs)"
      ],
      "execution_count": null,
      "outputs": []
    },
    {
      "cell_type": "code",
      "metadata": {
        "id": "7IDvupbHYMmG"
      },
      "source": [
        "model.load_weights('')\n",
        "\n",
        "pre = model.predict(preprocess_imgs).argmax(axis=1)\n",
        "print(classification_report(y_test, preX))"
      ],
      "execution_count": null,
      "outputs": []
    },
    {
      "cell_type": "code",
      "metadata": {
        "id": "WtMWpgJpYefu"
      },
      "source": [
        "# 計算『混淆矩陣』(Confusion Matrix)，顯示測試集分類的正確及錯認總和數\n",
        " \n",
        "pd.crosstab(y_test, pre, rownames=['實際值'], colnames=['預測值'])"
      ],
      "execution_count": null,
      "outputs": []
    },
    {
      "cell_type": "markdown",
      "metadata": {
        "id": "VfI6huxeYs0p"
      },
      "source": [
        "# ROC 曲線與 auc"
      ]
    },
    {
      "cell_type": "code",
      "metadata": {
        "id": "963q7nCOYlqc"
      },
      "source": [
        "pre_ori = model.predict(preprocess_imgs)\n",
        "pre = pre_ori[:, 1]\n",
        "fpr, tpr, thresholds = roc_curve(y_test, pre)\n",
        "plt.plot(fpr, tpr)"
      ],
      "execution_count": null,
      "outputs": []
    },
    {
      "cell_type": "code",
      "metadata": {
        "id": "GyDmDrKdZDsS"
      },
      "source": [
        "plt.plot(fpr, tpr, label='ROC curve')\n",
        "\n",
        "plt.plot([0, 1], [0, 1], 'k--')\n",
        "\n",
        "plt.xlim([0.0, 1.0])\n",
        "plt.ylim([0.0, 1.0])\n",
        "\n",
        "plt.xlabel('False Positive Rate')\n",
        "plt.ylabel('True Positive Rate')\n",
        "plt.title('Receiver operating characteristic example')\n",
        "plt.legend(loc=\"lower right\")\n",
        "plt.show()"
      ],
      "execution_count": null,
      "outputs": []
    },
    {
      "cell_type": "code",
      "metadata": {
        "id": "B3-uTzP9ZFyU"
      },
      "source": [
        "auc1 = auc(fpr, tpr)\n",
        "## Plot the result\n",
        "plt.title('Receiver Operating Characteristic')\n",
        "plt.plot(fpr, tpr, color = 'orange', label = 'AUC = %0.2f' % auc1)\n",
        "plt.legend(loc = 'lower right')\n",
        "plt.plot([0, 1], [0, 1],'r--')\n",
        "plt.xlim([0, 1])\n",
        "plt.ylim([0, 1])\n",
        "plt.ylabel('True Positive Rate')\n",
        "plt.xlabel('False Positive Rate')\n",
        "plt.show() "
      ],
      "execution_count": null,
      "outputs": []
    }
  ]
}