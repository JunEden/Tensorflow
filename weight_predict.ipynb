{
  "nbformat": 4,
  "nbformat_minor": 0,
  "metadata": {
    "colab": {
      "name": "weight_predict.ipynb",
      "provenance": [],
      "collapsed_sections": [],
      "authorship_tag": "ABX9TyMzdX5sDku0EyuJV17sHKlg",
      "include_colab_link": true
    },
    "kernelspec": {
      "name": "python3",
      "display_name": "Python 3"
    },
    "language_info": {
      "name": "python"
    }
  },
  "cells": [
    {
      "cell_type": "markdown",
      "metadata": {
        "id": "view-in-github",
        "colab_type": "text"
      },
      "source": [
        "<a href=\"https://colab.research.google.com/github/JunEden/Tensorflow/blob/main/weight_predict.ipynb\" target=\"_parent\"><img src=\"https://colab.research.google.com/assets/colab-badge.svg\" alt=\"Open In Colab\"/></a>"
      ]
    },
    {
      "cell_type": "code",
      "metadata": {
        "id": "9nL6j_T7gfgB"
      },
      "source": [
        "import numpy as np\n",
        "from tensorflow import *\n",
        "from tensorflow.keras.preprocessing import image \n",
        "from tensorflow.keras.applications.mobilenet import MobileNet\n",
        "from tensorflow.keras.models import Sequential\n",
        "from tensorflow.keras.layers import GlobalAveragePooling2D, Dense, BatchNormalization\n",
        "from tensorflow.keras.layers import Dropout\n",
        "#帶入模型\n",
        "cnn = MobileNet(include_top=False, input_shape=(224, 224, 3))\n",
        "layers = [\n",
        "    BatchNormalization(),\n",
        "    GlobalAveragePooling2D(),\n",
        "    Dense(2, activation=\"softmax\")\n",
        "]\n",
        "model = Sequential(cnn.layers + layers)\n",
        "\n",
        "# 直接Load model 不用家變量\n",
        "\n",
        "model.load_weights('/content/weight_Poop.h5')\n",
        "\n",
        "p = \"/content/poopb.jpg\"\n",
        "img = image.load_img(p,target_size=(224, 224))\n",
        "x = image.img_to_array(img)\n",
        "x = np.expand_dims(x,axis=0)\n",
        "l = model.predict(x)\n",
        "print(l)"
      ],
      "execution_count": null,
      "outputs": []
    }
  ]
}